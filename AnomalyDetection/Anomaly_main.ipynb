{
 "cells": [
  {
   "cell_type": "code",
   "execution_count": 1,
   "metadata": {
    "collapsed": false
   },
   "outputs": [
    {
     "name": "stdout",
     "output_type": "stream",
     "text": [
      "data_setting_done\n",
      "---------\n",
      "Variables: name (type shape) [size]\n",
      "---------\n",
      "auto_anomaly/fully_connected/weights:0 (float32_ref 13x8) [104, bytes: 416]\n",
      "auto_anomaly/fully_connected/biases:0 (float32_ref 8) [8, bytes: 32]\n",
      "auto_anomaly/fully_connected_1/weights:0 (float32_ref 8x4) [32, bytes: 128]\n",
      "auto_anomaly/fully_connected_1/biases:0 (float32_ref 4) [4, bytes: 16]\n",
      "auto_anomaly/fully_connected_2/weights:0 (float32_ref 4x8) [32, bytes: 128]\n",
      "auto_anomaly/fully_connected_2/biases:0 (float32_ref 8) [8, bytes: 32]\n",
      "auto_anomaly/fully_connected_3/weights:0 (float32_ref 8x13) [104, bytes: 416]\n",
      "auto_anomaly/fully_connected_3/biases:0 (float32_ref 13) [13, bytes: 52]\n",
      "Total size of variables: 305\n",
      "Total bytes of variables: 1220\n",
      "INFO:tensorflow:Restoring parameters from logA/Anomaly2.ckpt\n",
      "restore done!!\n",
      "f1_score: 0.66784578\n",
      "[[18811 18404]\n",
      " [   60   107]]\n"
     ]
    },
    {
     "data": {
      "image/png": "[encoded data removed]",
      "text/plain": [
       "<Figure size 288x288 with 2 Axes>"
      ]
     },
     "metadata": {},
     "output_type": "display_data"
    }
   ],
   "source": [
    "%matplotlib inline\n",
    "\n",
    "import numpy as np\n",
    "import tensorflow as tf\n",
    "import tensorflow.contrib.slim as slim\n",
    "import tensorflow.contrib.layers as layers\n",
    "import random\n",
    "\n",
    "import os\n",
    "import numpy as np\n",
    "\n",
    "from Anomaly_model import Anomaly\n",
    "\n",
    "import tensorflow as tf\n",
    "import pickle\n",
    "\n",
    "def main(_):\n",
    "    run_config = tf.ConfigProto()\n",
    "    run_config.gpu_options.allow_growth=True\n",
    "    with tf.Session(config=run_config) as sess:\n",
    "        Anomaly_dec = Anomaly(sess, input_size=13, n_digit=13, batch_size = 1)\n",
    "    \n",
    "        model_vars = tf.trainable_variables()\n",
    "        slim.model_analyzer.analyze_vars(model_vars, print_info=True)\n",
    "\n",
    "        # ---------------------Training----------------------\n",
    "        # Training 실행 시 주석을 제거하고 실행\n",
    "        \n",
    "#         Anomaly_dec.train(0)\n",
    "#         Anomaly_dec.validation_check(restore=0)\n",
    "#         Anomaly_dec.save('logA', 'Anomaly2')\n",
    "        # -----------------------End-------------------------\n",
    "\n",
    "\n",
    "        # ---------------------Testing-----------------------\n",
    "        Anomaly_dec.plot_confusion_matrix(check=1, restore=1)\n",
    "        # -----------------------End-------------------------\n",
    "        \n",
    "if __name__ == '__main__':\n",
    "    main(_)"
   ]
  },
  {
   "cell_type": "code",
   "execution_count": null,
   "metadata": {
    "collapsed": true
   },
   "outputs": [],
   "source": []
  }
 ],
 "metadata": {
  "anaconda-cloud": {},
  "kernelspec": {
   "display_name": "Python [default]",
   "language": "python",
   "name": "python3"
  },
  "language_info": {
   "codemirror_mode": {
    "name": "ipython",
    "version": 3
   },
   "file_extension": ".py",
   "mimetype": "text/x-python",
   "name": "python",
   "nbconvert_exporter": "python",
   "pygments_lexer": "ipython3",
   "version": "3.5.2"
  }
 },
 "nbformat": 4,
 "nbformat_minor": 2
}
